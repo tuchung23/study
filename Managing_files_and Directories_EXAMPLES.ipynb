{
  "nbformat": 4,
  "nbformat_minor": 0,
  "metadata": {
    "colab": {
      "provenance": [],
      "authorship_tag": "ABX9TyMsVBL0paMQp/fUv6uJeW2v",
      "include_colab_link": true
    },
    "kernelspec": {
      "name": "python3",
      "display_name": "Python 3"
    },
    "language_info": {
      "name": "python"
    }
  },
  "cells": [
    {
      "cell_type": "markdown",
      "metadata": {
        "id": "view-in-github",
        "colab_type": "text"
      },
      "source": [
        "<a href=\"https://colab.research.google.com/github/tuchung23/study/blob/main/Managing_files_and%20Directories_EXAMPLES.ipynb\" target=\"_parent\"><img src=\"https://colab.research.google.com/assets/colab-badge.svg\" alt=\"Open In Colab\"/></a>"
      ]
    },
    {
      "cell_type": "markdown",
      "source": [
        "# Managing files and Directories in Python"
      ],
      "metadata": {
        "id": "lfgueQrVYis0"
      }
    },
    {
      "cell_type": "code",
      "execution_count": 1,
      "metadata": {
        "colab": {
          "base_uri": "https://localhost:8080/"
        },
        "id": "oVvMSv1tXj0E",
        "outputId": "901f6e99-a81c-4f7f-bd1c-a7520b94c007"
      },
      "outputs": [
        {
          "output_type": "stream",
          "name": "stdout",
          "text": [
            "2023-02-07\n"
          ]
        }
      ],
      "source": [
        "# create new file and check its timestamp\n",
        "import os\n",
        "import datetime\n",
        "\n",
        "# WITH command ITERATES through files\n",
        "# using with automatically closes the file\n",
        "with open(\"newfile.txt\", \"w\") as file:\n",
        "    file.write(\"hello this is a new file\")\n",
        "\n",
        "timestamp = os.path.getmtime(\"newfile.txt\")\n",
        "readable_time = datetime.datetime.fromtimestamp(timestamp).strftime('%Y-%m-%d')\n",
        "print(readable_time)\n"
      ]
    },
    {
      "cell_type": "code",
      "source": [
        "# File READ options\n",
        "# read()\tReturns the file content\n",
        "# readable()\tReturns whether the file stream can be read or not\n",
        "# readline()\tReturns one line from the file\n",
        "# readlines()\tReturns a list of lines from the file\n",
        "\n",
        "\n",
        "#2 methods read words into a LIST\n",
        "\n",
        "import os\n",
        "\n",
        "# simple code to read words into a LIST\n",
        "file=open(\"newfile.txt\")\n",
        "lines=file.readlines()\n",
        "file.close()\n",
        "print(lines)\n",
        "\n",
        "# returns into a list as per above\n",
        "with open(\"newfile.txt\") as file2:\n",
        "  lines2=file2.readlines()\n",
        "\n",
        "print(lines2)\n"
      ],
      "metadata": {
        "colab": {
          "base_uri": "https://localhost:8080/"
        },
        "id": "g_BLhHscXz_Z",
        "outputId": "6f8f2b42-5d9b-4770-c990-89650683addb"
      },
      "execution_count": 2,
      "outputs": [
        {
          "output_type": "stream",
          "name": "stdout",
          "text": [
            "['hello this is a new file']\n",
            "['hello this is a new file']\n"
          ]
        }
      ]
    },
    {
      "cell_type": "code",
      "source": [
        "# File WRITE options\n",
        "# write()\tWrites the specified string to the file\n",
        "# writelines()\tWrites a list of strings to the file\n",
        "\n",
        "with open(\"newfile2.txt\", \"w\") as file3:\n",
        "  lines3=file3.write(\"this is a new file\")\n",
        "\n",
        "with open(\"newfile2.txt\") as file4:\n",
        "  for line in file4:\n",
        "        print(line)\n",
        "\n",
        "\n"
      ],
      "metadata": {
        "colab": {
          "base_uri": "https://localhost:8080/"
        },
        "id": "XFyZIHJzX32H",
        "outputId": "79eaec0d-cc4f-413b-c58c-d824b0235bc2"
      },
      "execution_count": 3,
      "outputs": [
        {
          "output_type": "stream",
          "name": "stdout",
          "text": [
            "this is a new file\n"
          ]
        }
      ]
    },
    {
      "cell_type": "markdown",
      "source": [
        "# CSV"
      ],
      "metadata": {
        "id": "MMe60kbAX7F_"
      }
    },
    {
      "cell_type": "code",
      "source": [
        "############\n",
        "# CSV writer() example\n",
        "#\n",
        "############\n",
        "\n",
        "\n",
        "\n",
        "# Example - Define the data to be written to the CSV file\n",
        "import csv\n",
        "data = [[\"Name\", \"Age\", \"City\"],\n",
        "        [\"John Doe\", \"32\", \"New York\"],\n",
        "        [\"Jane Doe\", \"35\", \"London\"]]\n",
        "\n",
        "# Open the file for writing\n",
        "with open(\"example.csv\", \"w\", newline=\"\") as file:\n",
        "  # define object\n",
        "  writer = csv.writer(file)\n",
        "\n",
        "  # Write the data to the file\n",
        "  writer.writerows(data)\n",
        "\n"
      ],
      "metadata": {
        "id": "ovhTm4DvX-bb"
      },
      "execution_count": 4,
      "outputs": []
    },
    {
      "cell_type": "code",
      "source": [
        "###################\n",
        "# csv reader() example\n",
        "#\n",
        "##################\n",
        "\n",
        "# Open the file for reading\n",
        "with open(\"example.csv\", \"r\") as file:\n",
        "    # define object\n",
        "    reader = csv.reader(file)\n",
        "\n",
        "    # Read and print the data from the file\n",
        "    # iterate through the rows\n",
        "    for row in reader:\n",
        "        print(row)\n"
      ],
      "metadata": {
        "colab": {
          "base_uri": "https://localhost:8080/"
        },
        "id": "WXFI4KboYCyC",
        "outputId": "544dd301-e41d-43b7-a074-711968cd3572"
      },
      "execution_count": 5,
      "outputs": [
        {
          "output_type": "stream",
          "name": "stdout",
          "text": [
            "['Name', 'Age', 'City']\n",
            "['John Doe', '32', 'New York']\n",
            "['Jane Doe', '35', 'London']\n"
          ]
        }
      ]
    },
    {
      "cell_type": "code",
      "source": [
        "####################\n",
        "# CSV DictReader() example\n",
        "# Turns each row into a dictionary\n",
        "# \n",
        "###################\n",
        "import os\n",
        "import csv\n",
        "\n",
        "##############################################\n",
        "# create the software.csv file here\n",
        "data2 = [[\"name\", \"version\", \"status\" , \"users\"],\n",
        "        [\"MailTree\", \"5.34\", \"Production\" , \"324\"],\n",
        "        [\"CallDoor\", \"1.25.1\", \"Beta\" , \"22\"]]\n",
        "\n",
        "# Open the file for writing\n",
        "with open(\"software.csv\", \"w\", newline=\"\") as file:\n",
        "  # define object\n",
        "  writer = csv.writer(file)\n",
        "\n",
        "  # Write the data to the file\n",
        "  writer.writerows(data2)\n",
        "\n",
        "# this part is the file creation\n",
        "###############################################\n",
        "\n",
        "\n",
        "### Let's start using DictReader() ########\n",
        "with open(\"software.csv\") as software:\n",
        "\n",
        "  # Read EACH row of the file into a dictionary\n",
        "  reader=csv.DictReader(software)\n",
        "\n",
        "  # can access the data using the COLUMN names instead of position in the row\n",
        "  for row in reader:\n",
        "    # row contains that lines dictionary\n",
        "    # and you can access the column name specifically\n",
        "    print((\"{} has {} users\").format(row[\"name\"], row[\"users\"]))\n",
        "\n",
        "\n",
        "\n",
        "# Row contents:\n",
        "# {'name': 'CallDoor', 'version': '1.25.1', 'status': 'Beta', 'users': '22'}\n",
        "# {'name': 'MailTree', 'version': '5.34', 'status': 'Production', 'users': '324'}"
      ],
      "metadata": {
        "colab": {
          "base_uri": "https://localhost:8080/"
        },
        "id": "0Gjxp8OFYJ8i",
        "outputId": "3df36927-18a7-493b-bafd-63beb107ecab"
      },
      "execution_count": 6,
      "outputs": [
        {
          "output_type": "stream",
          "name": "stdout",
          "text": [
            "MailTree has 324 users\n",
            "CallDoor has 22 users\n"
          ]
        }
      ]
    },
    {
      "cell_type": "code",
      "source": [
        "####################\n",
        "# CSV DictWriter() example\n",
        "# Turns each row into a dictionary\n",
        "# \n",
        "###################\n",
        "import csv\n",
        "\n",
        "fields = ['Name', 'Branch', 'Year', 'CGPA']\n",
        "rows = [{'Name': 'Alok', 'Branch': 'BT', 'Year': '2', 'CGPA': '9.4'},\n",
        "        {'Name': 'Amit', 'Branch': 'CSE', 'Year': '3', 'CGPA': '9.2'},\n",
        "        {'Name': 'Aditya', 'Branch': 'IT', 'Year': '2', 'CGPA': '9.5'},\n",
        "        {'Name': 'Ankur', 'Branch': 'MCE', 'Year': '1', 'CGPA': '8.9'},\n",
        "        {'Name': 'Subham', 'Branch': 'MCE', 'Year': '3', 'CGPA': '9.1'}]\n",
        "\n",
        "filename = \"students.csv\"\n",
        "with open(filename, 'w', newline='') as f:\n",
        "    writer = csv.DictWriter(f, fieldnames=fields)\n",
        "    writer.writeheader()\n",
        "    writer.writerows(rows)\n"
      ],
      "metadata": {
        "id": "CkVBlgmuYSzj"
      },
      "execution_count": 7,
      "outputs": []
    },
    {
      "cell_type": "markdown",
      "source": [
        "Which of the following is true about unpacking values into variables when reading rows of a CSV file? (Check all that apply)\n",
        "\n",
        "- We need the same amount of variables as there are columns of data in the CSV \n",
        "- Rows can be read using both csv.reader and csv.DictReader\n",
        "- An instance of the reader class must be created first\n"
      ],
      "metadata": {
        "id": "Io4K1mNIZcvL"
      }
    },
    {
      "cell_type": "markdown",
      "source": [],
      "metadata": {
        "id": "Frv5uy_5ZaQQ"
      }
    },
    {
      "cell_type": "markdown",
      "source": [
        "In order to use the writerows() function of DictWriter() to write a list of dictionaries to each line of a CSV file, what steps should we take? (Check all that apply)\n",
        "\n",
        "- Create an instance of the DictWriter() class\n",
        "- Write the fieldnames parameter into the first row using writeheader()\n",
        "- \n",
        "Open the csv file using with open\n"
      ],
      "metadata": {
        "id": "qyEqt5BiZJJs"
      }
    }
  ]
}