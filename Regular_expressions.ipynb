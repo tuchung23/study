{
  "nbformat": 4,
  "nbformat_minor": 0,
  "metadata": {
    "colab": {
      "provenance": [],
      "authorship_tag": "ABX9TyOwcbyMeSBY190bE8+EL2dh",
      "include_colab_link": true
    },
    "kernelspec": {
      "name": "python3",
      "display_name": "Python 3"
    },
    "language_info": {
      "name": "python"
    }
  },
  "cells": [
    {
      "cell_type": "markdown",
      "metadata": {
        "id": "view-in-github",
        "colab_type": "text"
      },
      "source": [
        "<a href=\"https://colab.research.google.com/github/tuchung23/study/blob/main/Regular_expressions.ipynb\" target=\"_parent\"><img src=\"https://colab.research.google.com/assets/colab-badge.svg\" alt=\"Open In Colab\"/></a>"
      ]
    },
    {
      "cell_type": "markdown",
      "source": [
        "Here is a brief summary of each of the regular expression metacharacters:\n",
        "\n",
        ". (dot): Matches any single character except a newline character.\n",
        "\n",
        "^ (caret): Matches the start of a line or string.\n",
        "\n",
        "$ (dollar): Matches the end of a line or string.\n",
        "\n",
        "\\* (asterisk): Matches zero or more occurrences of the preceding character or group.\n",
        "\n",
        "\\+ (plus): Matches one or more occurrences of the preceding character or group.\n",
        "\n",
        "? (question mark): Matches zero or one occurrence of the preceding character or group.\n",
        "\n",
        "{} (curly braces): Specify a numerical range for the number of matches.\n",
        "\n",
        "[] (square brackets): Matches any single character within the brackets.\n",
        "\n",
        "\\ (backslash): Escapes the special meaning of a metacharacter.\n",
        "\n",
        "| (vertical bar): Matches either the expression before or the expression after the bar.\n",
        "\n",
        " () (parentheses): Group characters together to form a subexpression."
      ],
      "metadata": {
        "id": "9GDvA6aPQCGj"
      }
    },
    {
      "cell_type": "code",
      "execution_count": 1,
      "metadata": {
        "colab": {
          "base_uri": "https://localhost:8080/"
        },
        "id": "rPJpCP-WP4_3",
        "outputId": "d74689a3-ad4a-46c2-c955-825bda1be577"
      },
      "outputs": [
        {
          "output_type": "stream",
          "name": "stdout",
          "text": [
            "Found a match: 100 + \n"
          ]
        }
      ],
      "source": [
        "####################\n",
        "# Search escape character example\n",
        "#\n",
        "#\n",
        "####################\n",
        "\n",
        "import re\n",
        "\n",
        "text = \"100 + 200 * 300\"\n",
        "\n",
        "# search for 100 followed by a space, a plus sign and a space\n",
        "result = re.search(r\"100\\s\\+\\s\", text)\n",
        "\n",
        "if result:\n",
        "    print(\"Found a match:\", result.group())\n",
        "else:\n",
        "    print(\"No match found.\")\n"
      ]
    },
    {
      "cell_type": "code",
      "source": [
        "####################\n",
        "# Beginning and end of line example\n",
        "#\n",
        "#\n",
        "####################\n",
        "\n",
        "import re\n",
        "\n",
        "text = \"First line\\nSecond line\\nThird line\"\n",
        "\n",
        "# search for a line that starts with \"First\" and ends with \"line\"\n",
        "result = re.search(r\"^First.*line$\", text, re.MULTILINE)\n",
        "\n",
        "if result:\n",
        "    print(\"Found a match:\", result.group())\n",
        "else:\n",
        "    print(\"No match found.\")\n"
      ],
      "metadata": {
        "colab": {
          "base_uri": "https://localhost:8080/"
        },
        "id": "zCPX0rCmZ9j6",
        "outputId": "f03c0c45-ee60-4e11-8887-ff5cb2a7c576"
      },
      "execution_count": 5,
      "outputs": [
        {
          "output_type": "stream",
          "name": "stdout",
          "text": [
            "Found a match: First line\n"
          ]
        }
      ]
    },
    {
      "cell_type": "code",
      "source": [
        "####################\n",
        "# Character classes example\n",
        "#\n",
        "#\n",
        "####################\n",
        "\n",
        "import re\n",
        "\n",
        "text = \"The quick brown fox jumps over the lazy dog.\"\n",
        "\n",
        "# search for a word that starts with a letter in the range \"a\" to \"z\"\n",
        "result = re.search(r\"\\b[a-z]\\w+\", text)\n",
        "\n",
        "if result:\n",
        "    print(\"Found a match:\", result.group())\n",
        "else:\n",
        "    print(\"No match found.\")\n",
        "\n",
        "# search for a word that starts with a letter in the set \"T\", \"t\", \"F\", or \"f\"\n",
        "result = re.search(r\"\\b[TtFf]\\w+\", text)\n",
        "\n",
        "if result:\n",
        "    print(\"Found a match:\", result.group())\n",
        "else:\n",
        "    print(\"No match found.\")\n",
        "\n",
        "# search for a word that starts with a digit\n",
        "result = re.search(r\"\\b\\d+\\w+\", text)\n",
        "\n",
        "if result:\n",
        "    print(\"Found a match:\", result.group())\n",
        "else:\n",
        "    print(\"No match found.\")\n",
        "\n",
        "\n",
        "\n",
        "\n"
      ],
      "metadata": {
        "colab": {
          "base_uri": "https://localhost:8080/"
        },
        "id": "yyxhmYg3aOtB",
        "outputId": "ca279ef8-93cd-4717-98a9-93d934668f8d"
      },
      "execution_count": 6,
      "outputs": [
        {
          "output_type": "stream",
          "name": "stdout",
          "text": [
            "Found a match: quick\n",
            "Found a match: The\n",
            "No match found.\n"
          ]
        }
      ]
    },
    {
      "cell_type": "code",
      "source": [
        "##############\n",
        "# Repetition Qualifiers\n",
        "#\n",
        "##############\n",
        "# you can use repetition qualifiers in regular expressions to specify the number of times a character or pattern should be repeated\n",
        "import re\n",
        "\n",
        "# search for the letter \"e\" repeated exactly 3 times\n",
        "result = re.search(r\"e{3}\", text)\n",
        "\n",
        "if result:\n",
        "    print(\"Found a match:\", result.group())\n",
        "else:\n",
        "    print(\"No match found.\")\n",
        "\n",
        "# search for the letter \"a\" repeated 0 or 1 time\n",
        "result = re.search(r\"a?\", text)\n",
        "\n",
        "if result:\n",
        "    print(\"Found a match:\", result.group())\n",
        "else:\n",
        "    print(\"No match found.\")\n",
        "\n",
        "# search for the letter \"i\" repeated between 2 and 4 times\n",
        "result = re.search(r\"i{2,4}\", text)\n",
        "\n",
        "if result:\n",
        "    print(\"Found a match:\", result.group())\n",
        "else:\n",
        "    print(\"No match found.\")\n",
        "\n",
        "# search for the letter \"o\" repeated at least 3 times\n",
        "result = re.search(r\"o{3,}\", text)\n",
        "\n",
        "if result:\n",
        "    print(\"Found a match:\", result.group())\n",
        "else:\n",
        "    print(\"No match found.\")\n",
        "\n",
        "\n",
        "\n",
        "\n",
        "\n",
        "\n",
        "\n"
      ],
      "metadata": {
        "colab": {
          "base_uri": "https://localhost:8080/"
        },
        "id": "jv0hgaINZEuS",
        "outputId": "05272223-2d63-4665-c5f2-336f99fa97df"
      },
      "execution_count": 4,
      "outputs": [
        {
          "output_type": "stream",
          "name": "stdout",
          "text": [
            "No match found.\n",
            "Found a match: \n",
            "No match found.\n",
            "No match found.\n"
          ]
        }
      ]
    }
  ]
}