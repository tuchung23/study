{
  "nbformat": 4,
  "nbformat_minor": 0,
  "metadata": {
    "colab": {
      "provenance": [],
      "authorship_tag": "ABX9TyOOKEayQ34bm8S62a9sKCFi",
      "include_colab_link": true
    },
    "kernelspec": {
      "name": "python3",
      "display_name": "Python 3"
    },
    "language_info": {
      "name": "python"
    }
  },
  "cells": [
    {
      "cell_type": "markdown",
      "metadata": {
        "id": "view-in-github",
        "colab_type": "text"
      },
      "source": [
        "<a href=\"https://colab.research.google.com/github/tuchung23/study/blob/main/Regular_expressions.ipynb\" target=\"_parent\"><img src=\"https://colab.research.google.com/assets/colab-badge.svg\" alt=\"Open In Colab\"/></a>"
      ]
    },
    {
      "cell_type": "markdown",
      "source": [
        "Here is a brief summary of each of the regular expression metacharacters:\n",
        "\n",
        ". (dot): Matches any single character except a newline character.\n",
        "\n",
        "^ (caret): Matches the start of a line or string.\n",
        "\n",
        "$ (dollar): Matches the end of a line or string.\n",
        "\n",
        "\\* (asterisk): Matches zero or more occurrences of the preceding character or group.\n",
        "\n",
        "\\+ (plus): Matches one or more occurrences of the preceding character or group.\n",
        "\n",
        "? (question mark): Matches zero or one occurrence of the preceding character or group.\n",
        "\n",
        "{} (curly braces): Specify a numerical range for the number of matches.\n",
        "\n",
        "[] (square brackets): Matches any single character within the brackets.\n",
        "\n",
        "\\ (backslash): Escapes the special meaning of a metacharacter.\n",
        "\n",
        "| (vertical bar): Matches either the expression before or the expression after the bar.\n",
        "\n",
        " () (parentheses): Group characters together to form a subexpression."
      ],
      "metadata": {
        "id": "9GDvA6aPQCGj"
      }
    },
    {
      "cell_type": "code",
      "execution_count": null,
      "metadata": {
        "id": "rPJpCP-WP4_3"
      },
      "outputs": [],
      "source": []
    }
  ]
}