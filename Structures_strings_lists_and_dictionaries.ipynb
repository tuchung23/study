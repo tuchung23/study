{
  "nbformat": 4,
  "nbformat_minor": 0,
  "metadata": {
    "colab": {
      "provenance": [],
      "authorship_tag": "ABX9TyNLnHFZRkYX/vbL+Q0XUpHv",
      "include_colab_link": true
    },
    "kernelspec": {
      "name": "python3",
      "display_name": "Python 3"
    },
    "language_info": {
      "name": "python"
    }
  },
  "cells": [
    {
      "cell_type": "markdown",
      "metadata": {
        "id": "view-in-github",
        "colab_type": "text"
      },
      "source": [
        "<a href=\"https://colab.research.google.com/github/tuchung23/study/blob/main/Structures_strings_lists_and_dictionaries.ipynb\" target=\"_parent\"><img src=\"https://colab.research.google.com/assets/colab-badge.svg\" alt=\"Open In Colab\"/></a>"
      ]
    },
    {
      "cell_type": "code",
      "source": [
        "sentence=\"Have a nice day\"\n",
        "print(sentence.replace(\"nice\", \"NICE\"))\n",
        "# This \"replace\" is a handy string function"
      ],
      "metadata": {
        "colab": {
          "base_uri": "https://localhost:8080/"
        },
        "id": "fjc2j4cFNMhR",
        "outputId": "48fc5c76-ad4b-41b7-95c3-e2289c209577"
      },
      "execution_count": 1,
      "outputs": [
        {
          "output_type": "stream",
          "name": "stdout",
          "text": [
            "Have a NICE day\n"
          ]
        }
      ]
    },
    {
      "cell_type": "code",
      "source": [
        "def highlight_word(sentence, word):\n",
        "\treturn(sentence.replace(word, word.upper()))\n",
        "\n",
        "print(highlight_word(\"Have a nice day\", \"nice\"))\n",
        "print(highlight_word(\"Shhh, don't be so loud!\", \"loud\"))\n",
        "print(highlight_word(\"Automating with Python is fun\", \"fun\"))\n",
        "\n",
        "# string.replace(old, new) - Returns a new string where all occurrences of old have been replaced by new."
      ],
      "metadata": {
        "colab": {
          "base_uri": "https://localhost:8080/"
        },
        "id": "Jw2i8Yc-IZ6V",
        "outputId": "3652c5db-d816-4d84-c97d-7ef743c51a10"
      },
      "execution_count": null,
      "outputs": [
        {
          "output_type": "stream",
          "name": "stdout",
          "text": [
            "Have a NICE day\n",
            "Shhh, don't be so LOUD!\n",
            "Automating with Python is FUN\n"
          ]
        }
      ]
    },
    {
      "cell_type": "code",
      "execution_count": 5,
      "metadata": {
        "colab": {
          "base_uri": "https://localhost:8080/"
        },
        "id": "FXXJ3RaYA9z9",
        "outputId": "64ab9f75-c710-4f74-de1c-9726bac2f372"
      },
      "outputs": [
        {
          "output_type": "stream",
          "name": "stdout",
          "text": [
            "T\n",
            "Tu \n",
            "g\n",
            "['Tu', 'Chung']\n",
            "True\n",
            "Tu Tutu\n",
            "h\n",
            "e\n",
            "l\n",
            "l\n",
            "o\n",
            " \n",
            "T\n",
            "u\n",
            "mei thanh elena\n",
            "['mei', 'thanh', 'elena']\n",
            "['elena', 'thanh', 'mei']\n",
            "['elena', 'thanh', 'mei', 'Hangy', 'Mai']\n",
            "{'Tu': 2, 'Vy': 3, 'Loi': 1, 'Van': 3, 'Bambi': 2}\n",
            "2\n",
            "dict_keys(['Tu', 'Vy', 'Loi', 'Van', 'Bambi'])\n",
            "dict_values([2, 3, 1, 3, 2])\n",
            "{'Tu': 2, 'Vy': 3, 'Loi': 1, 'Van': 3, 'Bambi': 2, 'Hang': 6}\n",
            "{'Tu': 2, 'Vy': 3, 'Loi': 1, 'Van': 3, 'Bambi': 2, 'Hang': 6, 'Bianca': 68}\n",
            "True\n"
          ]
        }
      ],
      "source": [
        "####################################\n",
        "# Strings vs LISTS vs DICTIONARIES cheatsheets\n",
        "####################################\n",
        "\n",
        "my_string=\"Tu Chung\"\n",
        "my_list=[\"mei\" , \"thanh\" , \"elena\"]\n",
        "another_list = [\"Hangy\" , \"Mai\"]\n",
        "my_dict={ \"Tu\":2, \"Vy\":3, \"Loi\":1, \"Van\":3, \"Bambi\":2}\n",
        "\n",
        "###########################################################################\n",
        "####### common string manipulations - immutable ( cannot insert or change) ######\n",
        "print(my_string[0])\n",
        "# prints first char in the string - T\n",
        "\n",
        "print(my_string[:3])\n",
        "# this prints 0 to 2nd char in the string\n",
        "\n",
        "print(my_string[-1])\n",
        "# prints out last char in the string - g\n",
        "\n",
        "\n",
        "print(my_string.split())\n",
        "# This is super useful. Returns ['Tu', 'Chung']  so that we can treat each string as individual iteams instead of \"Tu Chung\" as one string\n",
        "\n",
        "## use IN to see if a substring is in a string\n",
        "print(\"Chung\" in my_string)\n",
        "# returns true\n",
        "\n",
        "## REPLACE a substring in a string\n",
        "new_my_string=my_string.replace(\"Chung\" , \"Tutu\")\n",
        "print(new_my_string)\n",
        "# returns \"Tu Tutu\"\n",
        "\n",
        "## Iterate through a STRING\n",
        "for x2 in \"hello Tu\":\n",
        "  print(x2)\n",
        "# goes through letter by letter left to right\n",
        "\n",
        "\n",
        "#####################################################################\n",
        "#####################################################################\n",
        "\n",
        "\n",
        "##### common LIST manipulations - mutable ##############\n",
        "print(' '.join(my_list))\n",
        "# this is super useful. Prints each list element into a STRING\n",
        "\n",
        "# Append a LIST to a LIST\n",
        "print(my_list)\n",
        "my_list.reverse()\n",
        "print(my_list)\n",
        "print(my_list + another_list)\n",
        "# This returns ['elena', 'thanh', 'mei', 'Hangy', 'Mai']\n",
        "# We reverse the list and then append another list\n",
        "\n",
        "\n",
        "\n",
        "\n",
        "\n",
        "\n",
        "#### common DICTIONARY manipulations ###############\n",
        "\n",
        "print(my_dict)\n",
        "# prints all\n",
        "\n",
        "print(my_dict['Tu'])\n",
        "#prints 2\n",
        "\n",
        "print(my_dict.keys())\n",
        "# prints the names into a LIST\n",
        "\n",
        "print(my_dict.values())\n",
        "# prints the values into a LIST\n",
        "\n",
        "my_dict.update({\"Hang\":6})\n",
        "print(my_dict)\n",
        "my_dict.update({\"Bianca\":68})\n",
        "print(my_dict)\n",
        "# this assigns Hang and then bianca to the end. Can't use the print in the same command for some reason\n",
        "\n",
        "## need a for loop to iterate through each key,value\n",
        "\n",
        "## check if a name exists within any keys\n",
        "print(\"Van\" in my_dict.keys())\n",
        "\n",
        "\n"
      ]
    }
  ]
}