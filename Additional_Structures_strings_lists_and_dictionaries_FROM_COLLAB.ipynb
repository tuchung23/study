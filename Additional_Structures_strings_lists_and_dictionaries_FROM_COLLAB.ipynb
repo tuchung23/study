{
  "nbformat": 4,
  "nbformat_minor": 0,
  "metadata": {
    "colab": {
      "provenance": [],
      "authorship_tag": "ABX9TyPv5dKqRHeP1FFL413TlzMy",
      "include_colab_link": true
    },
    "kernelspec": {
      "name": "python3",
      "display_name": "Python 3"
    },
    "language_info": {
      "name": "python"
    }
  },
  "cells": [
    {
      "cell_type": "markdown",
      "metadata": {
        "id": "view-in-github",
        "colab_type": "text"
      },
      "source": [
        "<a href=\"https://colab.research.google.com/github/tuchung23/study/blob/main/Additional_Structures_strings_lists_and_dictionaries_FROM_COLLAB.ipynb\" target=\"_parent\"><img src=\"https://colab.research.google.com/assets/colab-badge.svg\" alt=\"Open In Colab\"/></a>"
      ]
    },
    {
      "cell_type": "markdown",
      "source": [
        "# STRINGS, LISTS and DICTIONARIES "
      ],
      "metadata": {
        "id": "7VvIRmd0ygna"
      }
    },
    {
      "cell_type": "code",
      "source": [
        "sentence=\"Have a nice day\"\n",
        "print(sentence.replace(\"nice\", \"NICE\"))\n",
        "# This \"replace\" is a handy string function"
      ],
      "metadata": {
        "colab": {
          "base_uri": "https://localhost:8080/"
        },
        "id": "fjc2j4cFNMhR",
        "outputId": "48fc5c76-ad4b-41b7-95c3-e2289c209577"
      },
      "execution_count": 1,
      "outputs": [
        {
          "output_type": "stream",
          "name": "stdout",
          "text": [
            "Have a NICE day\n"
          ]
        }
      ]
    },
    {
      "cell_type": "code",
      "execution_count": null,
      "metadata": {
        "id": "FXXJ3RaYA9z9"
      },
      "outputs": [],
      "source": [
        "####################################\n",
        "# Strings vs LISTS vs DICTIONARIES cheatsheets\n",
        "####################################\n",
        "\n",
        "my_string=\"Tu Chung\"\n",
        "my_list=[\"mei\" , \"thanh\" , \"elena\"]\n",
        "another_list = [\"Hangy\" , \"Mai\"]\n",
        "my_dict={ \"Tu\":2, \"Vy\":3, \"Loi\":1, \"Van\":3, \"Bambi\":2}\n",
        "\n",
        "###########################################################################\n",
        "####### common string manipulations - immutable ( cannot insert or change) ######\n",
        "print(\"STRING OPERATIONS:\")\n",
        "print(my_string[0])\n",
        "# prints first char in the string - T\n",
        "\n",
        "print(my_string[:3])\n",
        "# this prints 0 to 2nd char in the string\n",
        "\n",
        "print(my_string[-1])\n",
        "# prints out last char in the string - g\n",
        "\n",
        "\n",
        "print(my_string.split())\n",
        "# This is super useful. Returns ['Tu', 'Chung']  so that we can treat each string as individual iteams instead of \"Tu Chung\" as one string\n",
        "\n",
        "## use IN to see if a substring is in a string\n",
        "print(\"Chung\" in my_string)\n",
        "# returns true\n",
        "\n",
        "## REPLACE a substring in a string\n",
        "new_my_string=my_string.replace(\"Chung\" , \"Tutu\")\n",
        "print(new_my_string)\n",
        "# returns \"Tu Tutu\"\n",
        "\n",
        "## Iterate through a STRING\n",
        "for x2 in \"hello Tu\":\n",
        "  print(x2)\n",
        "# goes through letter by letter left to right\n",
        "\n",
        "\n",
        "###################################################\n",
        "# USEFUL STRING METHODS\n",
        "# useful string METHODS\n",
        "# word.upper()   ; convert to uppercase\n",
        "# word.lower()   ; lower case\n",
        "\n",
        "# word.strip()   ; remove surrounding whitespaces,tabs etc\n",
        "# word.lstrip()  ; remove to the left side\n",
        "# word.rstrip()   ; remove to the right side\n",
        "# word.count()   ; how many times a substring appears in a string\n",
        "# word.isnumeric()   ; if its a numnber\n",
        "# word.join()   ; similar to + to concatenate strings\n",
        "# word.split()  ; splits by whitespaces into a list\n",
        "# len(string) - Returns the length of the string\n",
        "\n",
        "# for character in string - Iterates over each character in the string\n",
        "\n",
        "#####################################################################\n",
        "#####################################################################\n",
        "\n",
        "\n",
        "##### common LIST manipulations - mutable ##############\n",
        "# my_list=[\"mei\" , \"thanh\" , \"elena\"]\n",
        "# another_list = [\"Hangy\" , \"Mai\"]\n",
        "print(\"LIST OPERATIONS:\")\n",
        "\n",
        "print(' '.join(my_list))\n",
        "# this is super useful. Prints each list element into a STRING\n",
        "\n",
        "# Append a LIST to a LIST\n",
        "print(my_list)\n",
        "my_list.reverse()\n",
        "print(my_list)\n",
        "print(my_list + another_list)\n",
        "# This returns ['elena', 'thanh', 'mei', 'Hangy', 'Mai']\n",
        "# We reverse the list and then append another list\n",
        "\n",
        "\n",
        "\n",
        "##############################################################\n",
        "#### common DICTIONARY manipulations ###############\n",
        "# my_dict={ \"Tu\":2, \"Vy\":3, \"Loi\":1, \"Van\":3, \"Bambi\":2}\n",
        "print(\"DICTIONARY OPERATIONS:\")\n",
        "\n",
        "print(my_dict)\n",
        "# prints all\n",
        "\n",
        "print(my_dict['Tu'])\n",
        "#prints 2\n",
        "\n",
        "print(my_dict.keys())\n",
        "# prints the names into a LIST\n",
        "\n",
        "print(my_dict.values())\n",
        "# prints the values into a LIST\n",
        "\n",
        "my_dict.update({\"Hang\":6})\n",
        "print(my_dict)\n",
        "my_dict.update({\"Bianca\":68})\n",
        "print(my_dict)\n",
        "# this assigns Hang and then bianca to the end. Can't use the print in the same command for some reason\n",
        "\n",
        "## need a for loop to iterate through each key,value\n",
        "\n",
        "## check if a name exists within any keys\n",
        "print(\"Van\" in my_dict.keys())\n",
        "\n",
        "\n"
      ]
    },
    {
      "cell_type": "code",
      "source": [
        "######################\n",
        "# Iterate through a dictionary example \n",
        "#\n",
        "#\n",
        "#####################\n",
        "\n",
        "# Example dictionary\n",
        "my_dict = {\"name\": \"John\", \"age\": 32, \"city\": \"New York\"}\n",
        "\n",
        "# Method 1: using a for loop to iterate over the keys\n",
        "# prints key and value\n",
        "for key in my_dict:\n",
        "    print(f\"{key}: {my_dict[key]}\")\n",
        "\n",
        "# Method 2: using the items() method to get key-value pairs\n",
        "# prints key and value\n",
        "for key, value in my_dict.items():\n",
        "    print(f\"{key}: {value}\")\n",
        "\n",
        "# Method 3: using the values() method to get the values\n",
        "# values only\n",
        "for value in my_dict.values():\n",
        "    print(value)\n",
        "\n",
        "\n",
        "\n",
        "\n",
        "\n",
        "\n",
        "\n",
        "\n"
      ],
      "metadata": {
        "id": "F3PUf-wPCICL",
        "outputId": "406fa2c1-7063-4753-bae9-5e5ab1284d03",
        "colab": {
          "base_uri": "https://localhost:8080/"
        }
      },
      "execution_count": 1,
      "outputs": [
        {
          "output_type": "stream",
          "name": "stdout",
          "text": [
            "name: John\n",
            "age: 32\n",
            "city: New York\n",
            "name: John\n",
            "age: 32\n",
            "city: New York\n",
            "John\n",
            "32\n",
            "New York\n"
          ]
        }
      ]
    },
    {
      "cell_type": "code",
      "source": [
        "def highlight_word(sentence, word):\n",
        "\treturn(sentence.replace(word, word.upper()))\n",
        "\n",
        "print(highlight_word(\"Have a nice day\", \"nice\"))\n",
        "print(highlight_word(\"Shhh, don't be so loud!\", \"loud\"))\n",
        "print(highlight_word(\"Automating with Python is fun\", \"fun\"))\n",
        "\n",
        "# string.replace(old, new) - Returns a new string where all occurrences of old have been replaced by new."
      ],
      "metadata": {
        "colab": {
          "base_uri": "https://localhost:8080/"
        },
        "id": "Jw2i8Yc-IZ6V",
        "outputId": "3652c5db-d816-4d84-c97d-7ef743c51a10"
      },
      "execution_count": null,
      "outputs": [
        {
          "output_type": "stream",
          "name": "stdout",
          "text": [
            "Have a NICE day\n",
            "Shhh, don't be so LOUD!\n",
            "Automating with Python is FUN\n"
          ]
        }
      ]
    },
    {
      "cell_type": "markdown",
      "source": [],
      "metadata": {
        "id": "6xCgMF0ayXTf"
      }
    },
    {
      "cell_type": "markdown",
      "source": [
        "# Wordcloud assignment"
      ],
      "metadata": {
        "id": "rjnwKND7Bm79"
      }
    },
    {
      "cell_type": "code",
      "source": [
        "# prep for wordcount\n",
        "def count_words(sentence):\n",
        "    words = sentence.split()\n",
        "    word_count = {word: words.count(word) for word in set(words)}\n",
        "    return word_count\n",
        "\n",
        "sentence = \"the quick brown fox jumps over the lazy dog\"\n",
        "print(count_words(sentence))"
      ],
      "metadata": {
        "colab": {
          "base_uri": "https://localhost:8080/"
        },
        "id": "rGUrR0vb900G",
        "outputId": "5de2f62a-2069-481d-b615-e1509b83c611"
      },
      "execution_count": 1,
      "outputs": [
        {
          "output_type": "stream",
          "name": "stdout",
          "text": [
            "{'lazy': 1, 'jumps': 1, 'quick': 1, 'over': 1, 'dog': 1, 'brown': 1, 'fox': 1, 'the': 2}\n"
          ]
        }
      ]
    },
    {
      "cell_type": "code",
      "source": [
        "# This is a working issue of the wordcloud without a function    \n",
        "# check each word\n",
        "sentence=\"Hello I am the game! yes the game is the game helLo hellO hell game# boo Boo\"\n",
        "punctuations = '''!()-[]{};:'\"\\,<>./?@#$%^&*_~'''\n",
        "uninteresting_words = [\"the\", \"a\", \"to\", \"if\", \"is\", \"it\", \"of\", \"and\", \"or\", \"an\", \"as\", \"i\", \"me\", \"my\", \\\n",
        "    \"we\", \"our\", \"ours\", \"you\", \"your\", \"yours\", \"he\", \"she\", \"him\", \"his\", \"her\", \"hers\", \"its\", \"they\", \"them\", \\\n",
        "    \"their\", \"what\", \"which\", \"who\", \"whom\", \"this\", \"that\", \"am\", \"are\", \"was\", \"were\", \"be\", \"been\", \"being\", \\\n",
        "    \"have\", \"has\", \"had\", \"do\", \"does\", \"did\", \"but\", \"at\", \"by\", \"with\", \"from\", \"here\", \"when\", \"where\", \"how\", \\\n",
        "    \"all\", \"any\", \"both\", \"each\", \"few\", \"more\", \"some\", \"such\", \"no\", \"nor\", \"too\", \"very\", \"can\", \"will\", \"just\"]\n",
        "\n",
        "# split    \n",
        "words=sentence.split()\n",
        "\n",
        "# make list all lower case\n",
        "lower_case_words=[s.lower() for s in words] \n",
        "#initialise the dictionary\n",
        "word_dictionary={}\n",
        "\n",
        "for word in lower_case_words:\n",
        "  \n",
        "  if word.isalpha():\n",
        "    #reset word count for the next word\n",
        "    word_count=0\n",
        "\n",
        "    # check if they are an uninteresting word\n",
        "    if word in uninteresting_words:\n",
        "      # if it is uninnteresting, jump to next iteration of the loop\n",
        "      continue\n",
        "\n",
        "\n",
        "    # create the dictionary\n",
        "\n",
        "    # get a number count\n",
        "    word_count=lower_case_words.count(word)\n",
        "\n",
        " \n",
        "\n",
        "    # Append to the dictionary ONLY if its not already there\n",
        "    if word not in word_dictionary:\n",
        "      word_dictionary[word]=word_count\n",
        "\n",
        "   \n",
        "  # Not all alpha numeric so remove punctuation here\n",
        "  else:\n",
        "    new_word=\"\"\n",
        "    word_count=0\n",
        "  #iterate through each string char and replace\n",
        "    for letter in word:\n",
        "      if letter.isalpha():\n",
        "        # build the word via individual chars\n",
        "        new_word += letter\n",
        "\n",
        "    # add 1 to include the existing\n",
        "    word_count=lower_case_words.count(new_word) + 1 \n",
        "\n",
        "    if new_word not in word_dictionary:\n",
        "      #print(word_dictionary.keys())\n",
        "      #print(new_word)\n",
        "      word_dictionary[new_word]=word_count\n",
        "    \n",
        "    #  break    \n",
        "    \n",
        "\n",
        "#print(new_word)  \n",
        "print(word_dictionary)   "
      ],
      "metadata": {
        "colab": {
          "base_uri": "https://localhost:8080/"
        },
        "id": "4P-pjZwo3DQC",
        "outputId": "02e893bb-9ee8-4805-eefe-73e0f02995d7"
      },
      "execution_count": 54,
      "outputs": [
        {
          "output_type": "stream",
          "name": "stdout",
          "text": [
            "{'hello': 3, 'game': 3, 'yes': 1, 'hell': 1, 'boo': 2}\n"
          ]
        }
      ]
    },
    {
      "cell_type": "code",
      "source": [
        "#################\n",
        "# This worked on coursera lab!!!!\n",
        "#\n",
        "#################\n",
        "\n",
        "def calculate_frequencies(file_contents):\n",
        "    # Here is a list of punctuations and uninteresting words you can use to process your text\n",
        "    punctuations = '''!()-[]{};:'\"\\,<>./?@#$%^&*_~'''\n",
        "    uninteresting_words = [\"the\", \"a\", \"to\", \"if\", \"is\", \"it\", \"of\", \"and\", \"or\", \"an\", \"as\", \"i\", \"me\", \"my\", \\\n",
        "    \"we\", \"our\", \"ours\", \"you\", \"your\", \"yours\", \"he\", \"she\", \"him\", \"his\", \"her\", \"hers\", \"its\", \"they\", \"them\", \\\n",
        "    \"their\", \"what\", \"which\", \"who\", \"whom\", \"this\", \"that\", \"am\", \"are\", \"was\", \"were\", \"be\", \"been\", \"being\", \\\n",
        "    \"have\", \"has\", \"had\", \"do\", \"does\", \"did\", \"but\", \"at\", \"by\", \"with\", \"from\", \"here\", \"when\", \"where\", \"how\", \\\n",
        "    \"all\", \"any\", \"both\", \"each\", \"few\", \"more\", \"some\", \"such\", \"no\", \"nor\", \"too\", \"very\", \"can\", \"will\", \"just\"]\n",
        "    \n",
        "# split    \n",
        "    words=file_contents.split()\n",
        "\n",
        "# make list all lower case\n",
        "    lower_case_words=[s.lower() for s in words] \n",
        "#initialise the dictionary\n",
        "    word_dictionary={}\n",
        "\n",
        "    for word in lower_case_words:  \n",
        "        if word.isalpha():\n",
        "    #reset word count for the next word\n",
        "            word_count=0\n",
        "\n",
        "    # check if they are an uninteresting word\n",
        "        if word in uninteresting_words:\n",
        "      # if it is uninnteresting, jump to next iteration of the loop\n",
        "            continue\n",
        "\n",
        "\n",
        "    # create the dictionary\n",
        "\n",
        "    # get a number count\n",
        "        word_count=lower_case_words.count(word)\n",
        "\n",
        " \n",
        "\n",
        "    # Append to the dictionary ONLY if its not already there\n",
        "        if word not in word_dictionary:\n",
        "            word_dictionary[word]=word_count\n",
        "\n",
        "   \n",
        "  # Not all alpha numeric so remove punctuation here\n",
        "        else:\n",
        "            new_word=\"\"\n",
        "            word_count=0\n",
        "  #iterate through each string char and replace\n",
        "            for letter in word:\n",
        "                if letter.isalpha():\n",
        "        # build the word via individual chars\n",
        "                    new_word += letter\n",
        "\n",
        "    # add 1 to include the existing\n",
        "            word_count=lower_case_words.count(new_word) + 1 \n",
        "\n",
        "            if new_word not in word_dictionary:\n",
        "          #print(word_dictionary.keys())\n",
        "          #print(new_word)\n",
        "                word_dictionary[new_word]=word_count\n",
        "    \n",
        "    \n",
        "    #wordcloud\n",
        "    #cloud = wordcloud.WordCloud()\n",
        "    #cloud.generate_from_frequencies(word_dictionary)\n",
        "    #return cloud.to_array()"
      ],
      "metadata": {
        "colab": {
          "base_uri": "https://localhost:8080/"
        },
        "id": "CHIc6zFtmV82",
        "outputId": "70b97cf7-6ee4-4815-9f47-f4cb3f167400"
      },
      "execution_count": 4,
      "outputs": [
        {
          "output_type": "stream",
          "name": "stdout",
          "text": [
            "{'hello': 3, 'friend': 1, 'hell': 1, 'van': 1}\n"
          ]
        }
      ]
    }
  ]
}